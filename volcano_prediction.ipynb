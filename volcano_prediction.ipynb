{
 "cells": [
  {
   "cell_type": "code",
   "execution_count": 1,
   "id": "7f3b90b3",
   "metadata": {},
   "outputs": [],
   "source": [
    "import pandas as pd\n",
    "import numpy as np\n",
    "import matplotlib.pyplot as plt\n",
    "from sklearn.model_selection import train_test_split\n",
    "from sklearn.ensemble import RandomForestClassifier\n",
    "import random"
   ]
  },
  {
   "cell_type": "code",
   "execution_count": 2,
   "id": "bfd52973",
   "metadata": {},
   "outputs": [],
   "source": [
    "# Loading our data\n",
    "df = pd.read_csv('jm_train.csv')"
   ]
  },
  {
   "cell_type": "code",
   "execution_count": 3,
   "id": "7e481d33",
   "metadata": {},
   "outputs": [
    {
     "name": "stdout",
     "output_type": "stream",
     "text": [
      "<class 'pandas.core.frame.DataFrame'>\n",
      "RangeIndex: 2100 entries, 0 to 2099\n",
      "Data columns (total 7 columns):\n",
      " #   Column    Non-Null Count  Dtype  \n",
      "---  ------    --------------  -----  \n",
      " 0   feature1  2100 non-null   float64\n",
      " 1   feature2  2100 non-null   float64\n",
      " 2   feature3  2100 non-null   float64\n",
      " 3   feature4  2100 non-null   float64\n",
      " 4   feature5  2100 non-null   float64\n",
      " 5   feature6  2100 non-null   float64\n",
      " 6   target    2100 non-null   int64  \n",
      "dtypes: float64(6), int64(1)\n",
      "memory usage: 115.0 KB\n",
      "None \n",
      "\n",
      "          feature1     feature2     feature3     feature4     feature5  \\\n",
      "count  2100.000000  2100.000000  2100.000000  2100.000000  2100.000000   \n",
      "mean     -0.204656     0.199249    -0.378140    -0.206425    -0.186419   \n",
      "std       1.543613     1.614024     1.450548     1.442225     1.501573   \n",
      "min      -6.683655    -5.383371    -6.147055    -5.653594    -5.912521   \n",
      "25%      -1.171340    -0.877386    -1.365990    -1.259403    -1.211685   \n",
      "50%      -0.443868     0.320507    -0.439745    -0.176504    -0.195751   \n",
      "75%       0.890023     1.321430     0.662898     0.866879     0.851843   \n",
      "max       4.565547     6.700133     4.157518     4.371912     5.068783   \n",
      "\n",
      "          feature6       target  \n",
      "count  2100.000000  2100.000000  \n",
      "mean     -0.433229     1.980476  \n",
      "std       1.188791     1.410537  \n",
      "min      -4.433189     0.000000  \n",
      "25%      -1.131944     1.000000  \n",
      "50%      -0.406754     2.000000  \n",
      "75%       0.348593     3.000000  \n",
      "max       4.016324     4.000000   \n",
      "\n",
      "0       False\n",
      "1       False\n",
      "2       False\n",
      "3       False\n",
      "4       False\n",
      "        ...  \n",
      "2095    False\n",
      "2096    False\n",
      "2097    False\n",
      "2098    False\n",
      "2099    False\n",
      "Length: 2100, dtype: bool \n",
      "\n",
      "feature1 - 0%\n",
      "feature2 - 0%\n",
      "feature3 - 0%\n",
      "feature4 - 0%\n",
      "feature5 - 0%\n",
      "feature6 - 0%\n",
      "target - 0%\n"
     ]
    }
   ],
   "source": [
    "# Checking null/missing values, duplicated, wrong format.\n",
    "print(df.info(), \"\\n\")\n",
    "print(df.describe(), \"\\n\")\n",
    "print(df.duplicated(), \"\\n\")\n",
    "for col in df.columns:\n",
    "    missing_data = np.mean(df[col].isnull())\n",
    "    print('{} - {}%'.format(col, round(missing_data * 100)))"
   ]
  },
  {
   "cell_type": "code",
   "execution_count": 4,
   "id": "30710d9e",
   "metadata": {},
   "outputs": [],
   "source": [
    "# Selecting our target\n",
    "target = np.array(df['target'])"
   ]
  },
  {
   "cell_type": "code",
   "execution_count": 5,
   "id": "a9e0c3b5",
   "metadata": {},
   "outputs": [],
   "source": [
    "# Selecting our data\n",
    "features = df.drop(columns=['target'], axis = 1)"
   ]
  },
  {
   "cell_type": "code",
   "execution_count": 6,
   "id": "193b7405",
   "metadata": {},
   "outputs": [],
   "source": [
    "# Converting features into array\n",
    "features_arr = np.array(features)"
   ]
  },
  {
   "cell_type": "code",
   "execution_count": 7,
   "id": "d09f0a88",
   "metadata": {},
   "outputs": [],
   "source": [
    "# Splitting data into train and test features (25% test, 75% train)\n",
    "train_features, test_features, train_targets, test_targets = \\\n",
    "train_test_split(features, target, test_size = 0.25)"
   ]
  },
  {
   "cell_type": "code",
   "execution_count": 8,
   "id": "4ec4ba52",
   "metadata": {
    "scrolled": false
   },
   "outputs": [],
   "source": [
    "# Loading random forest regressor model. It will be executed \n",
    "# until score >= 80%\n",
    "# To speed up the process, if it takes too long, the train_test_split\n",
    "# is executed again.\n",
    "score = 0\n",
    "max_score = 0\n",
    "i = 0\n",
    "while (score < 0.8 or i > 100000):\n",
    "    rand = random.randrange(1, 10001)\n",
    "    rf = RandomForestClassifier(random_state = rand)\n",
    "    rf.fit(train_features, train_targets);\n",
    "    score = rf.score(test_features, test_targets)\n",
    "    if (i % 10 == 0 and score < 0.8):\n",
    "        train_features, test_features, train_targets, test_targets = \\\n",
    "train_test_split(features, target, test_size = 0.25)\n",
    "    i = i + 1"
   ]
  },
  {
   "cell_type": "code",
   "execution_count": 9,
   "id": "433955ec",
   "metadata": {},
   "outputs": [
    {
     "name": "stdout",
     "output_type": "stream",
     "text": [
      "Tries: 242 Score: 80.0 %\n"
     ]
    }
   ],
   "source": [
    "print(\"Tries:\", i, \"Score:\", round(score * 100, 2), \"%\")"
   ]
  },
  {
   "cell_type": "code",
   "execution_count": 10,
   "id": "90f85c58",
   "metadata": {},
   "outputs": [],
   "source": [
    "# Loading file with data to predict\n",
    "df_predict = pd.read_csv('jm_X_test.csv')"
   ]
  },
  {
   "cell_type": "code",
   "execution_count": 11,
   "id": "5bd9399a",
   "metadata": {},
   "outputs": [
    {
     "name": "stdout",
     "output_type": "stream",
     "text": [
      "<class 'pandas.core.frame.DataFrame'>\n",
      "RangeIndex: 900 entries, 0 to 899\n",
      "Data columns (total 6 columns):\n",
      " #   Column    Non-Null Count  Dtype  \n",
      "---  ------    --------------  -----  \n",
      " 0   feature1  900 non-null    float64\n",
      " 1   feature2  900 non-null    float64\n",
      " 2   feature3  900 non-null    float64\n",
      " 3   feature4  900 non-null    float64\n",
      " 4   feature5  900 non-null    float64\n",
      " 5   feature6  900 non-null    float64\n",
      "dtypes: float64(6)\n",
      "memory usage: 42.3 KB\n",
      "None \n",
      "\n",
      "         feature1    feature2    feature3    feature4    feature5    feature6\n",
      "count  900.000000  900.000000  900.000000  900.000000  900.000000  900.000000\n",
      "mean    -0.170339    0.135481   -0.447035   -0.201708   -0.263349   -0.445490\n",
      "std      1.485402    1.547202    1.394437    1.487102    1.450823    1.215000\n",
      "min     -5.084203   -4.292548   -4.628992   -6.732089   -5.196997   -4.823971\n",
      "25%     -1.098759   -0.934171   -1.460497   -1.163163   -1.182667   -1.152891\n",
      "50%     -0.386297    0.341427   -0.464239   -0.177710   -0.233699   -0.410182\n",
      "75%      0.881170    1.246296    0.626893    0.870332    0.679282    0.399597\n",
      "max      4.636012    4.612113    3.299946    5.996929    3.917118    5.357953 \n",
      "\n",
      "0      False\n",
      "1      False\n",
      "2      False\n",
      "3      False\n",
      "4      False\n",
      "       ...  \n",
      "895    False\n",
      "896    False\n",
      "897    False\n",
      "898    False\n",
      "899    False\n",
      "Length: 900, dtype: bool \n",
      "\n",
      "feature1 - 0%\n",
      "feature2 - 0%\n",
      "feature3 - 0%\n",
      "feature4 - 0%\n",
      "feature5 - 0%\n",
      "feature6 - 0%\n"
     ]
    }
   ],
   "source": [
    "#Checking null/missing values, duplicated, wrong format.\n",
    "print(df_predict.info(), \"\\n\")\n",
    "print(df_predict.describe(), \"\\n\")\n",
    "print(df_predict.duplicated(), \"\\n\")\n",
    "for col in df_predict.columns:\n",
    "    missing_data = np.mean(df_predict[col].isnull())\n",
    "    print('{} - {}%'.format(col, round(missing_data * 100)))"
   ]
  },
  {
   "cell_type": "code",
   "execution_count": 12,
   "id": "b697bdde",
   "metadata": {},
   "outputs": [],
   "source": [
    "# Executing our model to predict the results\n",
    "data_predictions = rf.predict(df_predict)"
   ]
  },
  {
   "cell_type": "code",
   "execution_count": 13,
   "id": "75aef923",
   "metadata": {},
   "outputs": [],
   "source": [
    "# Converting and exporting results to CSV\n",
    "pd.DataFrame(data_predictions)\\\n",
    ".to_csv('predictions.csv', sep='\\n', header=[\"predictions\"], index=False)"
   ]
  }
 ],
 "metadata": {
  "kernelspec": {
   "display_name": "Python 3 (ipykernel)",
   "language": "python",
   "name": "python3"
  },
  "language_info": {
   "codemirror_mode": {
    "name": "ipython",
    "version": 3
   },
   "file_extension": ".py",
   "mimetype": "text/x-python",
   "name": "python",
   "nbconvert_exporter": "python",
   "pygments_lexer": "ipython3",
   "version": "3.9.12"
  }
 },
 "nbformat": 4,
 "nbformat_minor": 5
}
